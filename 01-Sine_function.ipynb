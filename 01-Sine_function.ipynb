{
 "cells": [
  {
   "cell_type": "markdown",
   "id": "ea870073-757b-4cb8-9597-5add2a1f4757",
   "metadata": {},
   "source": [
    "# Imports"
   ]
  },
  {
   "cell_type": "code",
   "execution_count": null,
   "id": "6dae7066-deb0-47d6-898b-7a9eda979eab",
   "metadata": {},
   "outputs": [],
   "source": [
    "import tensorflow as tf\n",
    "import numpy as np\n",
    "import math\n",
    "import matplotlib.pyplot as plt"
   ]
  },
  {
   "cell_type": "markdown",
   "id": "e8c2068d-256f-4c30-a06a-84f1ec2859a6",
   "metadata": {},
   "source": [
    "# Clear session"
   ]
  },
  {
   "cell_type": "code",
   "execution_count": null,
   "id": "6571a886-3f86-47da-a4f5-b44cddca21e6",
   "metadata": {},
   "outputs": [],
   "source": [
    "tf.keras.backend.clear_session()"
   ]
  },
  {
   "cell_type": "markdown",
   "id": "679cfe5c-def0-4e47-8682-ac62662a0720",
   "metadata": {},
   "source": [
    "# Seed random number generators\n",
    "\n",
    "## Settings"
   ]
  },
  {
   "cell_type": "code",
   "execution_count": null,
   "id": "9f011308-0dec-4a4a-8a2a-4119d9981a87",
   "metadata": {},
   "outputs": [],
   "source": [
    "USE_SEED = True\n",
    "SEED = 1410"
   ]
  },
  {
   "cell_type": "code",
   "execution_count": null,
   "id": "0c91eb02-929d-4386-914c-ed827b57f0af",
   "metadata": {},
   "outputs": [],
   "source": [
    "if USE_SEED:\n",
    "    np.random.seed(SEED)\n",
    "    tf.random.set_seed(SEED)"
   ]
  },
  {
   "cell_type": "markdown",
   "id": "a335cc80-0249-48cd-8588-df3c2de4b53a",
   "metadata": {},
   "source": [
    "# Generate data\n",
    "\n",
    "## Settings"
   ]
  },
  {
   "cell_type": "code",
   "execution_count": null,
   "id": "6d818238-7d7a-4a34-ab1d-775022199f96",
   "metadata": {},
   "outputs": [],
   "source": [
    "SAMPLES = 1000"
   ]
  },
  {
   "cell_type": "code",
   "execution_count": null,
   "id": "8500bbda-a8c2-4b4e-a5b8-88a106f8717f",
   "metadata": {},
   "outputs": [],
   "source": [
    "x_val = np.random.uniform(low = 0, high = 2 * math.pi, size = SAMPLES)"
   ]
  },
  {
   "cell_type": "code",
   "execution_count": null,
   "id": "5ed2b442-5153-4ac5-a08f-0a6c95a0894d",
   "metadata": {},
   "outputs": [],
   "source": [
    "y_val = np.sin(x_val)"
   ]
  },
  {
   "cell_type": "markdown",
   "id": "2254722e-aec8-4208-9fec-5377e9ed988a",
   "metadata": {},
   "source": [
    "## Add random noise to y values"
   ]
  },
  {
   "cell_type": "code",
   "execution_count": null,
   "id": "d3a8df9a-72ab-49a1-8b85-d14ba2766f6a",
   "metadata": {},
   "outputs": [],
   "source": [
    "y_val += 0.1 * np.random.randn(*y_val.shape)"
   ]
  },
  {
   "cell_type": "code",
   "execution_count": null,
   "id": "3e79c338-4747-470e-bbc9-83e4195b51e4",
   "metadata": {},
   "outputs": [],
   "source": [
    "plt.plot(x_val, y_val, \"g.\")\n",
    "plt.show()"
   ]
  },
  {
   "cell_type": "markdown",
   "id": "094f44e9-23c9-4074-893d-149943a74b33",
   "metadata": {},
   "source": [
    "# Split data for training, validation and testing"
   ]
  },
  {
   "cell_type": "code",
   "execution_count": null,
   "id": "fd5e8921-66a5-44aa-aadf-e94740c6f138",
   "metadata": {},
   "outputs": [],
   "source": [
    "TRAIN_SPLIT = int(0.6 * SAMPLES)\n",
    "TEST_SPLIT = int(0.2 * SAMPLES + TRAIN_SPLIT)"
   ]
  },
  {
   "cell_type": "code",
   "execution_count": null,
   "id": "4ba0d638-adff-4182-9bcd-da93d24ba7d5",
   "metadata": {},
   "outputs": [],
   "source": [
    "x_train, x_validate, x_test = np.split(x_val, [TRAIN_SPLIT, TEST_SPLIT])\n",
    "y_train, y_validate, y_test = np.split(y_val, [TRAIN_SPLIT, TEST_SPLIT])"
   ]
  },
  {
   "cell_type": "code",
   "execution_count": null,
   "id": "38bb807c-9cdf-467f-82c8-775f0f4c7f73",
   "metadata": {
    "tags": []
   },
   "outputs": [],
   "source": [
    "plt.plot(x_train, y_train, \"g.\")\n",
    "plt.plot(x_validate, y_validate, \"b.\")\n",
    "plt.plot(x_test, y_test, \"r.\")\n",
    "plt.show()"
   ]
  },
  {
   "cell_type": "markdown",
   "id": "0be3580c-7106-46ef-94b7-08dbc93c45cd",
   "metadata": {},
   "source": [
    "# Define ML model"
   ]
  },
  {
   "cell_type": "code",
   "execution_count": null,
   "id": "99b07a08-031d-4442-a12d-b38fceb379fd",
   "metadata": {},
   "outputs": [],
   "source": [
    "from tensorflow.keras import layers"
   ]
  },
  {
   "cell_type": "code",
   "execution_count": null,
   "id": "81c2583c-0b0f-408f-a667-e2a80293af9c",
   "metadata": {},
   "outputs": [],
   "source": [
    "EPOCHS = 600\n",
    "BATCH = 16"
   ]
  },
  {
   "cell_type": "code",
   "execution_count": null,
   "id": "d8a081df-09c0-4085-90d3-bd12701603e9",
   "metadata": {},
   "outputs": [],
   "source": [
    "model = tf.keras.Sequential()\n",
    "model.add(layers.Dense(16, activation = \"relu\", input_shape = (1,)))\n",
    "model.add(layers.Dense(16, activation = \"relu\"))\n",
    "model.add(layers.Dense(1))\n",
    "model.compile(optimizer = \"rmsprop\", loss = \"mse\", metrics = [\"mae\"])\n",
    "model.summary()"
   ]
  },
  {
   "cell_type": "markdown",
   "id": "8302890b-94b3-4b8a-a65f-ea8806cb4080",
   "metadata": {},
   "source": [
    "# Train ML model"
   ]
  },
  {
   "cell_type": "code",
   "execution_count": null,
   "id": "f5e3c97d-e0f3-48b3-8bd7-fb1a06f64fc6",
   "metadata": {
    "tags": []
   },
   "outputs": [],
   "source": [
    "history = model.fit(x_train, y_train, epochs = EPOCHS, batch_size = BATCH, validation_data = (x_validate, y_validate))"
   ]
  },
  {
   "cell_type": "markdown",
   "id": "4375545b-a9e7-4849-92a7-e4c1390344c8",
   "metadata": {
    "tags": []
   },
   "source": [
    "# Model metrics analysis"
   ]
  },
  {
   "cell_type": "code",
   "execution_count": null,
   "id": "cd019d2d-5823-4aa0-be09-c2f3a35893bd",
   "metadata": {
    "tags": []
   },
   "outputs": [],
   "source": [
    "loss = history.history[\"loss\"]\n",
    "val_loss = history.history[\"val_loss\"]\n",
    "mae = history.history[\"mae\"]\n",
    "val_mae = history.history[\"val_mae\"]\n",
    "epochs =  range(1, len(loss) + 1)\n",
    "SKIP = 100"
   ]
  },
  {
   "cell_type": "markdown",
   "id": "b30f5d79-e645-4e39-816f-05a21dbdc19f",
   "metadata": {},
   "source": [
    "## Loss"
   ]
  },
  {
   "cell_type": "code",
   "execution_count": null,
   "id": "80493504-d086-48f8-b989-5a8fad050275",
   "metadata": {},
   "outputs": [],
   "source": [
    "plt.plot(epochs[SKIP:], loss[SKIP:], \"g.\", label = \"Training loss\")\n",
    "plt.plot(epochs[SKIP:], val_loss[SKIP:], \"r.\", label = \"Validation loss\")\n",
    "plt.title(\"Training and validation loss\")\n",
    "plt.xlabel(\"Epochs\")\n",
    "plt.ylabel(\"Loss\")\n",
    "plt.legend()\n",
    "plt.show()"
   ]
  },
  {
   "cell_type": "markdown",
   "id": "997f739c-caa2-4424-8e06-e79729459327",
   "metadata": {},
   "source": [
    "## Mean absolute error"
   ]
  },
  {
   "cell_type": "code",
   "execution_count": null,
   "id": "df2f2091-44f0-4bd8-8851-cd51d4f082fd",
   "metadata": {},
   "outputs": [],
   "source": [
    "plt.plot(epochs[SKIP:], mae[SKIP:], \"b.\", label = \"Training MAE\")\n",
    "plt.plot(epochs[SKIP:], val_mae[SKIP:], \"k.\", label = \"Validation MAE\")\n",
    "plt.title(\"Training and validation mean absolute error\")\n",
    "plt.xlabel(\"Epochs\")\n",
    "plt.ylabel(\"MAE\")\n",
    "plt.legend()\n",
    "plt.show()"
   ]
  },
  {
   "cell_type": "code",
   "execution_count": null,
   "id": "c25c3bc9-8c52-4fa6-b165-f9b648e893ac",
   "metadata": {},
   "outputs": [],
   "source": [
    "predictions = model.predict(x_train)"
   ]
  },
  {
   "cell_type": "code",
   "execution_count": null,
   "id": "89270dc3-5f4d-4233-81d0-3e09068fee46",
   "metadata": {},
   "outputs": [],
   "source": [
    "plt.plot(x_test, y_test, \"c.\", label = \"Actual\")\n",
    "plt.plot(x_train, predictions, \"m.\", label = \"Predicted\")\n",
    "plt.title(\"Traning data vs actual values\")\n",
    "plt.legend()\n",
    "plt.show()"
   ]
  },
  {
   "cell_type": "code",
   "execution_count": null,
   "id": "f2bb13e6-d449-4e85-8d30-a3ce8a14a0d9",
   "metadata": {},
   "outputs": [],
   "source": [
    "loss = model.evaluate(x_test, y_test)"
   ]
  },
  {
   "cell_type": "code",
   "execution_count": null,
   "id": "ab34780a-9136-470a-b860-14462b530280",
   "metadata": {},
   "outputs": [],
   "source": [
    "predictions = model.predict(x_test)"
   ]
  },
  {
   "cell_type": "code",
   "execution_count": null,
   "id": "54a93a94-7afe-41f9-a0fb-e2d862421429",
   "metadata": {},
   "outputs": [],
   "source": [
    "plt.plot(x_test, y_test, \"c.\", label = \"Actual\")\n",
    "plt.plot(x_test, predictions, \"m.\", label = \"Predicted\")\n",
    "plt.title(\"Test data vs predictions\")\n",
    "plt.legend()\n",
    "plt.show()"
   ]
  },
  {
   "cell_type": "code",
   "execution_count": null,
   "id": "b47a2017-57b4-4901-b1b3-68d02ac2886f",
   "metadata": {},
   "outputs": [],
   "source": [
    "plt.plot(x_val, np.sin(x_val), \"y.\", label = \"sin\")\n",
    "plt.plot(x_test, predictions, \"m.\", label = \"Predicted\")\n",
    "plt.title(\"Test data vs sin function\")\n",
    "plt.legend()\n",
    "plt.show()"
   ]
  },
  {
   "cell_type": "code",
   "execution_count": null,
   "id": "c3dbd1f2-344f-4494-a024-02a494554f59",
   "metadata": {},
   "outputs": [],
   "source": []
  }
 ],
 "metadata": {
  "kernelspec": {
   "display_name": "Python 3 (ipykernel)",
   "language": "python",
   "name": "python3"
  },
  "language_info": {
   "codemirror_mode": {
    "name": "ipython",
    "version": 3
   },
   "file_extension": ".py",
   "mimetype": "text/x-python",
   "name": "python",
   "nbconvert_exporter": "python",
   "pygments_lexer": "ipython3",
   "version": "3.10.2"
  }
 },
 "nbformat": 4,
 "nbformat_minor": 5
}
