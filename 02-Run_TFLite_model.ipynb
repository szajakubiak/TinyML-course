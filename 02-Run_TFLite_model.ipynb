{
 "cells": [
  {
   "cell_type": "markdown",
   "id": "c2259bf1-cba8-4f20-b11c-6c1b6b2500bd",
   "metadata": {},
   "source": [
    "# Imports"
   ]
  },
  {
   "cell_type": "code",
   "execution_count": null,
   "id": "19729e75-6f7a-4a0a-bdcb-75bda173907f",
   "metadata": {},
   "outputs": [],
   "source": [
    "import tensorflow as tf\n",
    "import numpy as np\n",
    "import math\n",
    "import matplotlib.pyplot as plt"
   ]
  },
  {
   "cell_type": "markdown",
   "id": "cc5a7e9c-01cd-4c60-9453-b8251102069e",
   "metadata": {},
   "source": [
    "# Model interpreter"
   ]
  },
  {
   "cell_type": "code",
   "execution_count": null,
   "id": "a06abd55-7ee6-4902-b71a-eca948e03f4f",
   "metadata": {},
   "outputs": [],
   "source": [
    "sine_model = tf.lite.Interpreter(\"sine_model.tflite\")"
   ]
  },
  {
   "cell_type": "markdown",
   "id": "9657506c-6dbb-44bb-a4fc-34443743fce8",
   "metadata": {},
   "source": [
    "# Allocate memory"
   ]
  },
  {
   "cell_type": "code",
   "execution_count": null,
   "id": "b09e0166-c5ec-4572-b428-457b43112d32",
   "metadata": {},
   "outputs": [],
   "source": [
    "sine_model.allocate_tensors()"
   ]
  },
  {
   "cell_type": "markdown",
   "id": "33903576-13e1-496c-9329-bc68317ecfbe",
   "metadata": {},
   "source": [
    "# Indexes of input and output tensors"
   ]
  },
  {
   "cell_type": "code",
   "execution_count": null,
   "id": "6b0c15ff-9fa7-4c38-ba3f-00f1452c2a93",
   "metadata": {},
   "outputs": [],
   "source": [
    "sine_model_input_index = sine_model.get_input_details()[0][\"index\"]\n",
    "sine_model_output_index = sine_model.get_output_details()[0][\"index\"]"
   ]
  },
  {
   "cell_type": "markdown",
   "id": "75bd857f-96f7-4740-902f-e811e0df07b0",
   "metadata": {},
   "source": [
    "# Generate test data"
   ]
  },
  {
   "cell_type": "code",
   "execution_count": null,
   "id": "8792fcb2-0d12-4fc9-bb71-89fdba1f265f",
   "metadata": {},
   "outputs": [],
   "source": [
    "SAMPLES = 1000\n",
    "x_data = np.random.uniform(low = 0, high = 2 * math.pi, size = SAMPLES)"
   ]
  },
  {
   "cell_type": "markdown",
   "id": "6036a0a6-0d4e-4888-826e-7d5faab42991",
   "metadata": {},
   "source": [
    "# Calculated values"
   ]
  },
  {
   "cell_type": "code",
   "execution_count": null,
   "id": "97ae7dc1-85a8-4df5-8a75-a550ef62ce58",
   "metadata": {},
   "outputs": [],
   "source": [
    "y_calc = np.sin(x_data)"
   ]
  },
  {
   "cell_type": "markdown",
   "id": "0dba9708-6a2c-403f-bfa4-5f4288c817f2",
   "metadata": {},
   "source": [
    "# Predictions"
   ]
  },
  {
   "cell_type": "markdown",
   "id": "b4244172-f9e4-42f3-bcb3-d6b275f2e2fa",
   "metadata": {},
   "source": [
    "## Array to store the results"
   ]
  },
  {
   "cell_type": "code",
   "execution_count": null,
   "id": "43bcd1fb-c506-4b62-b667-5495b2ac27ec",
   "metadata": {},
   "outputs": [],
   "source": [
    "sine_model_predictions = []"
   ]
  },
  {
   "cell_type": "markdown",
   "id": "ffe1daab-2f9e-489f-a862-9595928873a6",
   "metadata": {},
   "source": [
    "## Get prediction for each x value"
   ]
  },
  {
   "cell_type": "code",
   "execution_count": null,
   "id": "6baeb9a0-d5ec-489d-8103-9826895d9837",
   "metadata": {},
   "outputs": [],
   "source": [
    "for x_value in x_data:\n",
    "    # convert value to tensor\n",
    "    x_value_tensor = tf.convert_to_tensor([[x_value]], dtype = np.float32)\n",
    "    # write tensor to model's input tensor\n",
    "    sine_model.set_tensor(sine_model_input_index, x_value_tensor)\n",
    "    # run model\n",
    "    sine_model.invoke()\n",
    "    # read and store prediction\n",
    "    sine_model_predictions.append(sine_model.get_tensor(sine_model_output_index)[0])"
   ]
  },
  {
   "cell_type": "markdown",
   "id": "42f684ba-3c82-45e3-b746-97a2c3ab0b8d",
   "metadata": {},
   "source": [
    "## Plot comparison"
   ]
  },
  {
   "cell_type": "code",
   "execution_count": null,
   "id": "02509ffd-8db2-4509-b556-9eb575794808",
   "metadata": {},
   "outputs": [],
   "source": [
    "plt.plot(x_data, y_calc, \"y.\", label = \"sin\")\n",
    "plt.plot(x_data, sine_model_predictions, \"m.\", label = \"TF Lite\")\n",
    "plt.title(\"TF Lite model vs sin function\")\n",
    "plt.legend()\n",
    "plt.show()"
   ]
  },
  {
   "cell_type": "code",
   "execution_count": null,
   "id": "5c346159-be3c-4f1a-badc-3c1039a5d7b1",
   "metadata": {},
   "outputs": [],
   "source": []
  }
 ],
 "metadata": {
  "kernelspec": {
   "display_name": "Python 3 (ipykernel)",
   "language": "python",
   "name": "python3"
  },
  "language_info": {
   "codemirror_mode": {
    "name": "ipython",
    "version": 3
   },
   "file_extension": ".py",
   "mimetype": "text/x-python",
   "name": "python",
   "nbconvert_exporter": "python",
   "pygments_lexer": "ipython3",
   "version": "3.10.2"
  }
 },
 "nbformat": 4,
 "nbformat_minor": 5
}
