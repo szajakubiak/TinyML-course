{
 "cells": [
  {
   "cell_type": "code",
   "execution_count": null,
   "id": "6dae7066-deb0-47d6-898b-7a9eda979eab",
   "metadata": {},
   "outputs": [],
   "source": [
    "import tensorflow as tf\n",
    "import numpy as np\n",
    "import math\n",
    "import matplotlib.pyplot as plt"
   ]
  },
  {
   "cell_type": "code",
   "execution_count": null,
   "id": "9f011308-0dec-4a4a-8a2a-4119d9981a87",
   "metadata": {},
   "outputs": [],
   "source": [
    "USE_SEED = True\n",
    "SEED = 1410\n",
    "SAMPLES = 1000"
   ]
  },
  {
   "cell_type": "code",
   "execution_count": null,
   "id": "0c91eb02-929d-4386-914c-ed827b57f0af",
   "metadata": {},
   "outputs": [],
   "source": [
    "if USE_SEED:\n",
    "    np.random.seed(SEED)\n",
    "    tf.random.set_seed(SEED)"
   ]
  },
  {
   "cell_type": "code",
   "execution_count": null,
   "id": "8500bbda-a8c2-4b4e-a5b8-88a106f8717f",
   "metadata": {},
   "outputs": [],
   "source": [
    "x_val = np.random.uniform(low = 0, high = 2 * math.pi, size = SAMPLES)"
   ]
  },
  {
   "cell_type": "code",
   "execution_count": null,
   "id": "690926bd-0edc-46ef-b290-2ee487af0fab",
   "metadata": {},
   "outputs": [],
   "source": [
    "np.random"
   ]
  },
  {
   "cell_type": "code",
   "execution_count": null,
   "id": "5ed2b442-5153-4ac5-a08f-0a6c95a0894d",
   "metadata": {},
   "outputs": [],
   "source": [
    "y_val = np.sin(x_val)"
   ]
  },
  {
   "cell_type": "code",
   "execution_count": null,
   "id": "d3a8df9a-72ab-49a1-8b85-d14ba2766f6a",
   "metadata": {},
   "outputs": [],
   "source": [
    "y_val += 0.1 * np.random.randn(*y_val.shape)"
   ]
  },
  {
   "cell_type": "code",
   "execution_count": null,
   "id": "3e79c338-4747-470e-bbc9-83e4195b51e4",
   "metadata": {},
   "outputs": [],
   "source": [
    "plt.plot(x_val, y_val, \"g.\")\n",
    "plt.show()"
   ]
  },
  {
   "cell_type": "code",
   "execution_count": null,
   "id": "fd5e8921-66a5-44aa-aadf-e94740c6f138",
   "metadata": {},
   "outputs": [],
   "source": [
    "TRAIN_SPLIT = int(0.6 * SAMPLES)\n",
    "TEST_SPLIT = int(0.2 * SAMPLES + TRAIN_SPLIT)"
   ]
  },
  {
   "cell_type": "code",
   "execution_count": null,
   "id": "4ba0d638-adff-4182-9bcd-da93d24ba7d5",
   "metadata": {},
   "outputs": [],
   "source": [
    "x_train, x_validate, x_test = np.split(x_val, [TRAIN_SPLIT, TEST_SPLIT])\n",
    "y_train, y_validate, y_test = np.split(y_val, [TRAIN_SPLIT, TEST_SPLIT])"
   ]
  },
  {
   "cell_type": "code",
   "execution_count": null,
   "id": "38bb807c-9cdf-467f-82c8-775f0f4c7f73",
   "metadata": {},
   "outputs": [],
   "source": [
    "plt.plot(x_train, y_train, \"g.\")\n",
    "plt.plot(x_validate, y_validate, \"b.\")\n",
    "plt.plot(x_test, y_test, \"r.\")\n",
    "plt.show()"
   ]
  },
  {
   "cell_type": "code",
   "execution_count": null,
   "id": "99b07a08-031d-4442-a12d-b38fceb379fd",
   "metadata": {},
   "outputs": [],
   "source": [
    "from tensorflow.keras import layers"
   ]
  },
  {
   "cell_type": "code",
   "execution_count": null,
   "id": "d8a081df-09c0-4085-90d3-bd12701603e9",
   "metadata": {},
   "outputs": [],
   "source": [
    "model = tf.keras.Sequential()\n",
    "model.add(layers.Dense(16, activation = \"relu\", input_shape = (1,)))\n",
    "model.add(layers.Dense(1))\n",
    "model.compile(optimizer = \"rmsprop\", loss = \"mse\", metrics = [\"mae\"])\n",
    "model.summary()"
   ]
  },
  {
   "cell_type": "code",
   "execution_count": null,
   "id": "f5e3c97d-e0f3-48b3-8bd7-fb1a06f64fc6",
   "metadata": {},
   "outputs": [],
   "source": [
    "history = model.fit(x_train, y_train, epochs = 1000, batch_size = 16, validation_data = (x_validate, y_validate))"
   ]
  },
  {
   "cell_type": "code",
   "execution_count": null,
   "id": "cd019d2d-5823-4aa0-be09-c2f3a35893bd",
   "metadata": {},
   "outputs": [],
   "source": []
  }
 ],
 "metadata": {
  "kernelspec": {
   "display_name": "Python 3 (ipykernel)",
   "language": "python",
   "name": "python3"
  },
  "language_info": {
   "codemirror_mode": {
    "name": "ipython",
    "version": 3
   },
   "file_extension": ".py",
   "mimetype": "text/x-python",
   "name": "python",
   "nbconvert_exporter": "python",
   "pygments_lexer": "ipython3",
   "version": "3.10.2"
  }
 },
 "nbformat": 4,
 "nbformat_minor": 5
}
